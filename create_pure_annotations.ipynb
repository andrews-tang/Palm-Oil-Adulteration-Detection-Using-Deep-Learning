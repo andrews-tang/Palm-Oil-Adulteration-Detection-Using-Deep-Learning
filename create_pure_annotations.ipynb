{
 "cells": [
  {
   "cell_type": "code",
   "execution_count": 2,
   "metadata": {},
   "outputs": [
    {
     "name": "stdout",
     "output_type": "stream",
     "text": [
      "Annotations have been created and stored in pure_annotations.csv\n"
     ]
    }
   ],
   "source": [
    "import os\n",
    "import csv\n",
    "\n",
    "# Path to the \"Pure\" folder\n",
    "data_dir = \"/home/andrews/Desktop/Repos/Palm-Oil-Adulteration-Detection-Using-Deep-Learning/Pure\"\n",
    "\n",
    "# Get the list of image filenames in the \"Pure\" folder\n",
    "image_filenames = os.listdir(data_dir)\n",
    "\n",
    "# Create a CSV file to store annotations\n",
    "csv_file = \"pure_annotations.csv\"\n",
    "\n",
    "# Open the CSV file in write mode\n",
    "with open(csv_file, \"w\", newline=\"\") as csvfile:\n",
    "    csvwriter = csv.writer(csvfile)\n",
    "    csvwriter.writerow([\"Image Filename\", \"Label\"])\n",
    "\n",
    "    # Assuming pure samples are labeled as 0\n",
    "    for image_filename in image_filenames:\n",
    "        csvwriter.writerow([image_filename, 0])\n",
    "\n",
    "print(\"Annotations have been created and stored in\", csv_file)"
   ]
  }
 ],
 "metadata": {
  "kernelspec": {
   "display_name": "Python 3",
   "language": "python",
   "name": "python3"
  },
  "language_info": {
   "codemirror_mode": {
    "name": "ipython",
    "version": 3
   },
   "file_extension": ".py",
   "mimetype": "text/x-python",
   "name": "python",
   "nbconvert_exporter": "python",
   "pygments_lexer": "ipython3",
   "version": "3.10.12"
  },
  "orig_nbformat": 4
 },
 "nbformat": 4,
 "nbformat_minor": 2
}
